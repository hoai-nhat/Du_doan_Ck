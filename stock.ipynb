{
 "cells": [
  {
   "cell_type": "markdown",
   "metadata": {},
   "source": [
    "import\n"
   ]
  },
  {
   "cell_type": "code",
   "execution_count": 1,
   "metadata": {},
   "outputs": [],
   "source": [
    "import investpy\n",
    "import pandas as pd\n",
    "import datetime as dt\n",
    "\n",
    "from sklearn.preprocessing import MinMaxScaler\n",
    "\n",
    "import numpy as np\n",
    "\n",
    "from tensorflow.keras.models import Sequential\n",
    "from tensorflow.keras.layers import Dense, Dropout, LSTM\n",
    "\n",
    "import matplotlib.pyplot as plt"
   ]
  },
  {
   "cell_type": "code",
   "execution_count": 4,
   "metadata": {},
   "outputs": [],
   "source": [
    "CK = input(\"Nhập mã chứng khoán\")"
   ]
  },
  {
   "cell_type": "markdown",
   "metadata": {},
   "source": [
    "dowload data"
   ]
  },
  {
   "cell_type": "code",
   "execution_count": 9,
   "metadata": {},
   "outputs": [
    {
     "name": "stdout",
     "output_type": "stream",
     "text": [
      "               Open     High      Low    Close  Volume Currency\n",
      "Date                                                           \n",
      "2018-01-02  10100.0  10200.0  10000.0  10200.0    6200      VND\n",
      "2018-01-04  11600.0  11600.0  11600.0  11600.0     100      VND\n",
      "2018-01-05  13300.0  13300.0  13300.0  13300.0    8584      VND\n",
      "2018-01-08  13300.0  14800.0  13300.0  14800.0   10100      VND\n",
      "2018-01-10  14000.0  14000.0  14000.0  14000.0    6615      VND\n"
     ]
    }
   ],
   "source": [
    "day = dt.datetime.now().strftime('%d/%m/%Y')\n",
    "df = investpy.get_stock_historical_data(stock=CK,\n",
    "                                        country='Vietnam',\n",
    "                                        from_date='01/01/2018',\n",
    "                                        to_date=day)\n",
    "print(df.head())"
   ]
  },
  {
   "cell_type": "markdown",
   "metadata": {},
   "source": [
    "xử lý data ,và thêm chỉ số cần thiết để phân tích"
   ]
  },
  {
   "cell_type": "code",
   "execution_count": 10,
   "metadata": {},
   "outputs": [],
   "source": [
    "df['H-L'] = df['High'] - df['Low']\n",
    "df['O-C'] = df['Open'] - df['Close']\n",
    "ma_1 = 7\n",
    "ma_2 = 14\n",
    "ma_3 = 21\n",
    "df[f'SMA_{ma_1}'] = df['Close'].rolling(window=ma_1).mean()\n",
    "df[f'SMA_{ma_2}'] = df['Close'].rolling(window=ma_2).mean()\n",
    "df[f'SMA_{ma_3}'] = df['Close'].rolling(window=ma_3).mean()\n",
    "\n",
    "df[f'SD_{ma_1}'] = df['Close'].rolling(window=ma_1).std()\n",
    "df[f'SD_{ma_3}'] = df['Close'].rolling(window=ma_3).std()\n",
    "df.dropna(inplace=True)"
   ]
  },
  {
   "cell_type": "markdown",
   "metadata": {},
   "source": [
    "Lưa data ra file csv"
   ]
  },
  {
   "cell_type": "code",
   "execution_count": 12,
   "metadata": {},
   "outputs": [
    {
     "name": "stdout",
     "output_type": "stream",
     "text": [
      "Done Loading Data\n"
     ]
    }
   ],
   "source": [
    "df.to_csv(f\"{CK}.csv\")\n",
    "print(\"Done Loading Data\")"
   ]
  },
  {
   "cell_type": "markdown",
   "metadata": {},
   "source": [
    "Process Data"
   ]
  },
  {
   "cell_type": "code",
   "execution_count": 13,
   "metadata": {},
   "outputs": [
    {
     "name": "stdout",
     "output_type": "stream",
     "text": [
      "(144, 30, 7) (144, 1) (365, 30, 7) (365, 1)\n"
     ]
    }
   ],
   "source": [
    "pre_day = 30\n",
    "scala_x = MinMaxScaler(feature_range=(0, 1))\n",
    "scala_y = MinMaxScaler(feature_range=(0, 1))\n",
    "cols_x = ['H-L', 'O-C', f'SMA_{ma_1}', f'SMA_{ma_2}', f'SMA_{ma_3}', f'SD_{ma_1}', f'SD_{ma_3}']\n",
    "cols_y = ['Close']\n",
    "scaled_data_x = scala_x.fit_transform(df[cols_x].values.reshape(-1, len(cols_x)))\n",
    "scaled_data_y = scala_y.fit_transform(df[cols_y].values.reshape(-1, len(cols_y)))\n",
    "\n",
    "\n",
    "x_total = []\n",
    "y_total = []\n",
    "\n",
    "for i in range(pre_day, len(df)):\n",
    "    x_total.append(scaled_data_x[i-pre_day:i])\n",
    "    y_total.append(scaled_data_y[i])\n",
    "\n",
    "test_size = 365\n",
    "\n",
    "x_train = np.array(x_total[:len(x_total)-test_size])\n",
    "x_test = np.array(x_total[len(x_total)-test_size:])\n",
    "y_train = np.array(y_total[:len(y_total)-test_size])\n",
    "y_test = np.array(y_total[len(y_total)-test_size:])\n",
    "\n",
    "print(x_train.shape, y_train.shape, x_test.shape, y_test.shape)"
   ]
  },
  {
   "cell_type": "markdown",
   "metadata": {},
   "source": [
    "Build Model"
   ]
  },
  {
   "cell_type": "code",
   "execution_count": 15,
   "metadata": {},
   "outputs": [
    {
     "name": "stdout",
     "output_type": "stream",
     "text": [
      "Epoch 1/120\n",
      "40/40 [==============================] - 6s 20ms/step - loss: 0.0678\n",
      "Epoch 2/120\n",
      "40/40 [==============================] - 1s 20ms/step - loss: 0.0483\n",
      "Epoch 3/120\n",
      "40/40 [==============================] - 1s 20ms/step - loss: 0.0286\n",
      "Epoch 4/120\n",
      "40/40 [==============================] - 1s 20ms/step - loss: 0.0380\n",
      "Epoch 5/120\n",
      "40/40 [==============================] - 1s 19ms/step - loss: 0.0303\n",
      "Epoch 6/120\n",
      "40/40 [==============================] - 1s 20ms/step - loss: 0.0232\n",
      "Epoch 7/120\n",
      "40/40 [==============================] - 1s 20ms/step - loss: 0.0286\n",
      "Epoch 8/120\n",
      "40/40 [==============================] - 1s 20ms/step - loss: 0.0176\n",
      "Epoch 9/120\n",
      "40/40 [==============================] - 1s 20ms/step - loss: 0.0176\n",
      "Epoch 10/120\n",
      "40/40 [==============================] - 1s 20ms/step - loss: 0.0220\n",
      "Epoch 11/120\n",
      "40/40 [==============================] - 1s 20ms/step - loss: 0.0155\n",
      "Epoch 12/120\n",
      "40/40 [==============================] - 1s 20ms/step - loss: 0.0131\n",
      "Epoch 13/120\n",
      "40/40 [==============================] - 1s 20ms/step - loss: 0.0175\n",
      "Epoch 14/120\n",
      "40/40 [==============================] - 1s 20ms/step - loss: 0.0156\n",
      "Epoch 15/120\n",
      "40/40 [==============================] - 1s 20ms/step - loss: 0.0115\n",
      "Epoch 16/120\n",
      "40/40 [==============================] - 1s 20ms/step - loss: 0.0089\n",
      "Epoch 17/120\n",
      "40/40 [==============================] - 1s 20ms/step - loss: 0.0110\n",
      "Epoch 18/120\n",
      "40/40 [==============================] - 1s 19ms/step - loss: 0.0073\n",
      "Epoch 19/120\n",
      "40/40 [==============================] - 1s 20ms/step - loss: 0.0100\n",
      "Epoch 20/120\n",
      "40/40 [==============================] - 1s 20ms/step - loss: 0.0073\n",
      "Epoch 21/120\n",
      "40/40 [==============================] - 1s 20ms/step - loss: 0.0091\n",
      "Epoch 22/120\n",
      "40/40 [==============================] - 1s 20ms/step - loss: 0.0072\n",
      "Epoch 23/120\n",
      "40/40 [==============================] - 1s 20ms/step - loss: 0.0068\n",
      "Epoch 24/120\n",
      "40/40 [==============================] - 1s 20ms/step - loss: 0.0079\n",
      "Epoch 25/120\n",
      "40/40 [==============================] - 1s 20ms/step - loss: 0.0071\n",
      "Epoch 26/120\n",
      "40/40 [==============================] - 1s 20ms/step - loss: 0.0073\n",
      "Epoch 27/120\n",
      "40/40 [==============================] - 1s 20ms/step - loss: 0.0050\n",
      "Epoch 28/120\n",
      "40/40 [==============================] - 1s 20ms/step - loss: 0.0062\n",
      "Epoch 29/120\n",
      "40/40 [==============================] - 1s 20ms/step - loss: 0.0101\n",
      "Epoch 30/120\n",
      "40/40 [==============================] - 1s 20ms/step - loss: 0.0075\n",
      "Epoch 31/120\n",
      "40/40 [==============================] - 1s 19ms/step - loss: 0.0047\n",
      "Epoch 32/120\n",
      "40/40 [==============================] - 1s 20ms/step - loss: 0.0058\n",
      "Epoch 33/120\n",
      "40/40 [==============================] - 1s 20ms/step - loss: 0.0056\n",
      "Epoch 34/120\n",
      "40/40 [==============================] - 1s 20ms/step - loss: 0.0066\n",
      "Epoch 35/120\n",
      "40/40 [==============================] - 1s 20ms/step - loss: 0.0058\n",
      "Epoch 36/120\n",
      "40/40 [==============================] - 1s 19ms/step - loss: 0.0066\n",
      "Epoch 37/120\n",
      "40/40 [==============================] - 1s 20ms/step - loss: 0.0068\n",
      "Epoch 38/120\n",
      "40/40 [==============================] - 1s 20ms/step - loss: 0.0056\n",
      "Epoch 39/120\n",
      "40/40 [==============================] - 1s 20ms/step - loss: 0.0055\n",
      "Epoch 40/120\n",
      "40/40 [==============================] - 1s 20ms/step - loss: 0.0051\n",
      "Epoch 41/120\n",
      "40/40 [==============================] - 1s 20ms/step - loss: 0.0072\n",
      "Epoch 42/120\n",
      "40/40 [==============================] - 1s 20ms/step - loss: 0.0065\n",
      "Epoch 43/120\n",
      "40/40 [==============================] - 1s 20ms/step - loss: 0.0051\n",
      "Epoch 44/120\n",
      "40/40 [==============================] - 1s 20ms/step - loss: 0.0043\n",
      "Epoch 45/120\n",
      "40/40 [==============================] - 1s 21ms/step - loss: 0.0047\n",
      "Epoch 46/120\n",
      "40/40 [==============================] - 1s 20ms/step - loss: 0.0050\n",
      "Epoch 47/120\n",
      "40/40 [==============================] - 1s 21ms/step - loss: 0.0040\n",
      "Epoch 48/120\n",
      "40/40 [==============================] - 1s 20ms/step - loss: 0.0051\n",
      "Epoch 49/120\n",
      "40/40 [==============================] - 1s 20ms/step - loss: 0.0038\n",
      "Epoch 50/120\n",
      "40/40 [==============================] - 1s 20ms/step - loss: 0.0045\n",
      "Epoch 51/120\n",
      "40/40 [==============================] - 1s 20ms/step - loss: 0.0044\n",
      "Epoch 52/120\n",
      "40/40 [==============================] - 1s 21ms/step - loss: 0.0040\n",
      "Epoch 53/120\n",
      "40/40 [==============================] - 1s 21ms/step - loss: 0.0052\n",
      "Epoch 54/120\n",
      "40/40 [==============================] - 1s 20ms/step - loss: 0.0036\n",
      "Epoch 55/120\n",
      "40/40 [==============================] - 1s 21ms/step - loss: 0.0040\n",
      "Epoch 56/120\n",
      "40/40 [==============================] - 1s 20ms/step - loss: 0.0050\n",
      "Epoch 57/120\n",
      "40/40 [==============================] - 1s 20ms/step - loss: 0.0071\n",
      "Epoch 58/120\n",
      "40/40 [==============================] - 1s 19ms/step - loss: 0.0027\n",
      "Epoch 59/120\n",
      "40/40 [==============================] - 1s 20ms/step - loss: 0.0036\n",
      "Epoch 60/120\n",
      "40/40 [==============================] - 1s 20ms/step - loss: 0.0039\n",
      "Epoch 61/120\n",
      "40/40 [==============================] - 1s 19ms/step - loss: 0.0035\n",
      "Epoch 62/120\n",
      "40/40 [==============================] - 1s 20ms/step - loss: 0.0030\n",
      "Epoch 63/120\n",
      "40/40 [==============================] - 1s 20ms/step - loss: 0.0040\n",
      "Epoch 64/120\n",
      "40/40 [==============================] - 1s 20ms/step - loss: 0.0036\n",
      "Epoch 65/120\n",
      "40/40 [==============================] - 1s 19ms/step - loss: 0.0043\n",
      "Epoch 66/120\n",
      "40/40 [==============================] - 1s 19ms/step - loss: 0.0032\n",
      "Epoch 67/120\n",
      "40/40 [==============================] - 1s 20ms/step - loss: 0.0035\n",
      "Epoch 68/120\n",
      "40/40 [==============================] - 1s 20ms/step - loss: 0.0027\n",
      "Epoch 69/120\n",
      "40/40 [==============================] - 1s 19ms/step - loss: 0.0024\n",
      "Epoch 70/120\n",
      "40/40 [==============================] - 1s 20ms/step - loss: 0.0031\n",
      "Epoch 71/120\n",
      "40/40 [==============================] - 1s 19ms/step - loss: 0.0046\n",
      "Epoch 72/120\n",
      "40/40 [==============================] - 1s 20ms/step - loss: 0.0039\n",
      "Epoch 73/120\n",
      "40/40 [==============================] - 1s 20ms/step - loss: 0.0045\n",
      "Epoch 74/120\n",
      "40/40 [==============================] - 1s 21ms/step - loss: 0.0051\n",
      "Epoch 75/120\n",
      "40/40 [==============================] - 1s 20ms/step - loss: 0.0039\n",
      "Epoch 76/120\n",
      "40/40 [==============================] - 1s 20ms/step - loss: 0.0021\n",
      "Epoch 77/120\n",
      "40/40 [==============================] - 1s 20ms/step - loss: 0.0029\n",
      "Epoch 78/120\n",
      "40/40 [==============================] - 1s 19ms/step - loss: 0.0027\n",
      "Epoch 79/120\n",
      "40/40 [==============================] - 1s 20ms/step - loss: 0.0027\n",
      "Epoch 80/120\n",
      "40/40 [==============================] - 1s 20ms/step - loss: 0.0023\n",
      "Epoch 81/120\n",
      "40/40 [==============================] - 1s 19ms/step - loss: 0.0035\n",
      "Epoch 82/120\n",
      "40/40 [==============================] - 1s 23ms/step - loss: 0.0025\n",
      "Epoch 83/120\n",
      "40/40 [==============================] - 1s 20ms/step - loss: 0.0027\n",
      "Epoch 84/120\n",
      "40/40 [==============================] - 1s 20ms/step - loss: 0.0028\n",
      "Epoch 85/120\n",
      "40/40 [==============================] - 1s 20ms/step - loss: 0.0045\n",
      "Epoch 86/120\n",
      "40/40 [==============================] - 1s 20ms/step - loss: 0.0036\n",
      "Epoch 87/120\n",
      "40/40 [==============================] - 1s 20ms/step - loss: 0.0022\n",
      "Epoch 88/120\n",
      "40/40 [==============================] - 1s 20ms/step - loss: 0.0045\n",
      "Epoch 89/120\n",
      "40/40 [==============================] - 1s 20ms/step - loss: 0.0024\n",
      "Epoch 90/120\n",
      "40/40 [==============================] - 1s 20ms/step - loss: 0.0030\n",
      "Epoch 91/120\n",
      "40/40 [==============================] - 1s 20ms/step - loss: 0.0041\n",
      "Epoch 92/120\n",
      "40/40 [==============================] - 1s 20ms/step - loss: 0.0034\n",
      "Epoch 93/120\n",
      "40/40 [==============================] - 1s 20ms/step - loss: 0.0027\n",
      "Epoch 94/120\n",
      "40/40 [==============================] - 1s 20ms/step - loss: 0.0025\n",
      "Epoch 95/120\n",
      "40/40 [==============================] - 1s 20ms/step - loss: 0.0026\n",
      "Epoch 96/120\n",
      "40/40 [==============================] - 1s 20ms/step - loss: 0.0024\n",
      "Epoch 97/120\n",
      "40/40 [==============================] - 1s 21ms/step - loss: 0.0031\n",
      "Epoch 98/120\n",
      "40/40 [==============================] - 1s 20ms/step - loss: 0.0019\n",
      "Epoch 99/120\n",
      "40/40 [==============================] - 1s 20ms/step - loss: 0.0041\n",
      "Epoch 100/120\n",
      "40/40 [==============================] - 1s 20ms/step - loss: 0.0029\n",
      "Epoch 101/120\n",
      "40/40 [==============================] - 1s 20ms/step - loss: 0.0028\n",
      "Epoch 102/120\n",
      "40/40 [==============================] - 1s 20ms/step - loss: 0.0029\n",
      "Epoch 103/120\n",
      "40/40 [==============================] - 1s 20ms/step - loss: 0.0029\n",
      "Epoch 104/120\n",
      "40/40 [==============================] - 1s 20ms/step - loss: 0.0030\n",
      "Epoch 105/120\n",
      "40/40 [==============================] - 1s 20ms/step - loss: 0.0030\n",
      "Epoch 106/120\n",
      "40/40 [==============================] - 1s 20ms/step - loss: 0.0030\n",
      "Epoch 107/120\n",
      "40/40 [==============================] - 1s 20ms/step - loss: 0.0023\n",
      "Epoch 108/120\n",
      "40/40 [==============================] - 1s 20ms/step - loss: 0.0027\n",
      "Epoch 109/120\n",
      "WARNING:tensorflow:Your input ran out of data; interrupting training. Make sure that your dataset or generator can generate at least `steps_per_epoch * epochs` batches (in this case, 4800 batches). You may need to use the repeat() function when building your dataset.\n",
      "40/40 [==============================] - 1s 19ms/step - loss: 0.0027\n",
      "Done Training Model\n"
     ]
    }
   ],
   "source": [
    "model = Sequential()\n",
    "\n",
    "model.add(LSTM(units=60, return_sequences=True, input_shape=(x_train.shape[1], x_train.shape[2])))\n",
    "model.add(Dropout(0.2))\n",
    "model.add(LSTM(units=60, return_sequences=True))\n",
    "model.add(Dropout(0.2))\n",
    "model.add(LSTM(units=60, return_sequences=True))\n",
    "model.add(Dropout(0.2))\n",
    "model.add(LSTM(units=60, return_sequences=True))\n",
    "model.add(Dropout(0.2))\n",
    "model.add(LSTM(units=60))\n",
    "model.add(Dropout(0.2))\n",
    "model.add(Dense(units=len(cols_y)))\n",
    "\n",
    "model.compile(optimizer='adam', loss='mean_squared_error')\n",
    "model.fit(x_train, y_train, epochs=120, steps_per_epoch=40, use_multiprocessing=True)\n",
    "model.save(f\"{CK}.h5\")\n",
    "print(\"Done Training Model\")"
   ]
  },
  {
   "cell_type": "markdown",
   "metadata": {},
   "source": [
    "Testing"
   ]
  },
  {
   "cell_type": "code",
   "execution_count": 16,
   "metadata": {},
   "outputs": [
    {
     "name": "stdout",
     "output_type": "stream",
     "text": [
      "12/12 [==============================] - 2s 12ms/step\n"
     ]
    }
   ],
   "source": [
    "predict_prices = model.predict(x_test)\n",
    "predict_prices = scala_y.inverse_transform(predict_prices)"
   ]
  },
  {
   "cell_type": "markdown",
   "metadata": {},
   "source": [
    "Ploting the Stat"
   ]
  },
  {
   "cell_type": "code",
   "execution_count": 18,
   "metadata": {},
   "outputs": [
    {
     "data": {
      "image/png": "[encoded data removed]",
      "text/plain": [
       "<Figure size 640x480 with 1 Axes>"
      ]
     },
     "metadata": {},
     "output_type": "display_data"
    }
   ],
   "source": [
    "real_price = df[len(df)-test_size:]['Close'].values.reshape(-1, 1)\n",
    "real_price = np.array(real_price)\n",
    "real_price = real_price.reshape(real_price.shape[0], 1)\n",
    "\n",
    "plt.plot(real_price, color=\"red\", label=f\"Real {CK} Prices\")\n",
    "plt.plot(predict_prices, color=\"blue\", label=f\"Predicted {CK} Prices\")\n",
    "plt.title(f\"{CK} Prices\")\n",
    "plt.xlabel(\"Time\")\n",
    "plt.ylabel(\"Stock Prices\")\n",
    "plt.ylim(bottom=0)\n",
    "plt.legend()\n",
    "plt.show()"
   ]
  },
  {
   "cell_type": "markdown",
   "metadata": {},
   "source": [
    " Đường màu xanh là đường mà chúng ta dự đoán \n Đường màu đỏ là đường giá thực , mình đưa vào để kiểm tra giá dự đoán có sát với thực tế không\n Nên đường dự đoán này là dự đoán 365 ngày trước ,nếu muốn dự đoán tương lai các bạn chỉnh test_size = 0 \n Như các bạn thấy thì mô hình dự đoán đi khá sát với thực tế"
   ]
  },
  {
   "cell_type": "code",
   "execution_count": 19,
   "metadata": {},
   "outputs": [
    {
     "name": "stdout",
     "output_type": "stream",
     "text": [
      "1/1 [==============================] - 0s 18ms/step\n",
      "[[18610.855]]\n"
     ]
    }
   ],
   "source": [
    "x_predict = df[len(df)-pre_day:][cols_x].values.reshape(-1, len(cols_x))\n",
    "x_predict = scala_x.transform(x_predict)\n",
    "x_predict = np.array(x_predict)\n",
    "x_predict = x_predict.reshape(1, x_predict.shape[0], len(cols_x))\n",
    "prediction = model.predict(x_predict)\n",
    "prediction = scala_y.inverse_transform(prediction)\n",
    "print(prediction)"
   ]
  }
 ],
 "metadata": {
  "kernelspec": {
   "display_name": "Python 3.10.6 64-bit",
   "language": "python",
   "name": "python3"
  },
  "language_info": {
   "codemirror_mode": {
    "name": "ipython",
    "version": 3
   },
   "file_extension": ".py",
   "mimetype": "text/x-python",
   "name": "python",
   "nbconvert_exporter": "python",
   "pygments_lexer": "ipython3",
   "version": "3.10.6"
  },
  "orig_nbformat": 4,
  "vscode": {
   "interpreter": {
    "hash": "a42ccb73e7d9bfdf27e036f1d2b8b681e55fc0743cc5586bc2474d4a60f4b886"
   }
  }
 },
 "nbformat": 4,
 "nbformat_minor": 2
}
